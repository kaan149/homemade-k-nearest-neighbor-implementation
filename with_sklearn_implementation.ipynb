{
 "cells": [
  {
   "cell_type": "code",
   "execution_count": 119,
   "id": "8a8908d5",
   "metadata": {},
   "outputs": [],
   "source": [
    "import numpy as np\n",
    "import pandas as pd\n",
    "from sklearn.model_selection import train_test_split\n",
    "from sklearn.metrics import accuracy_score\n",
    "from sklearn.neighbors import KNeighborsClassifier\n",
    "from sklearn.metrics import classification_report\n",
    "from sklearn.metrics import confusion_matrix\n",
    "from sklearn.metrics import accuracy_score\n",
    "from sklearn.metrics import precision_score\n",
    "from sklearn.metrics import recall_score\n",
    "from sklearn.metrics import f1_score"
   ]
  },
  {
   "cell_type": "code",
   "execution_count": 120,
   "id": "0d593ac7",
   "metadata": {},
   "outputs": [],
   "source": [
    "df = pd.read_csv(\"/Users/kaan/Downloads/glass.csv\")\n",
    "x = df.drop(\"Type\",axis = 1).values\n",
    "y = df[\"Type\"].values"
   ]
  },
  {
   "cell_type": "code",
   "execution_count": 121,
   "id": "5a132734",
   "metadata": {},
   "outputs": [],
   "source": [
    "x_train, x_test, y_train, y_test = train_test_split(X, y, test_size=0.25, random_state=3)"
   ]
  },
  {
   "cell_type": "code",
   "execution_count": 122,
   "id": "4c5e0bad",
   "metadata": {},
   "outputs": [],
   "source": [
    "neigh = KNeighborsClassifier(n_neighbors=5)"
   ]
  },
  {
   "cell_type": "code",
   "execution_count": 123,
   "id": "a17949a4",
   "metadata": {},
   "outputs": [
    {
     "data": {
      "text/plain": [
       "KNeighborsClassifier()"
      ]
     },
     "execution_count": 123,
     "metadata": {},
     "output_type": "execute_result"
    }
   ],
   "source": [
    "neigh.fit(x, y)"
   ]
  },
  {
   "cell_type": "code",
   "execution_count": 124,
   "id": "2faecc8c",
   "metadata": {},
   "outputs": [],
   "source": [
    "y_pred = neigh.predict(x_test)"
   ]
  },
  {
   "cell_type": "code",
   "execution_count": 125,
   "id": "374c6760",
   "metadata": {},
   "outputs": [],
   "source": [
    "target_names = ['1', '2', '3', '5', '6', '7']"
   ]
  },
  {
   "cell_type": "code",
   "execution_count": 126,
   "id": "6f6b9043",
   "metadata": {},
   "outputs": [],
   "source": [
    "result = classification_report(y_test, y_pred, target_names=target_names)\n",
    "matrix_result = confusion_matrix(y_test, y_pred)\n",
    "graph_result = neigh.kneighbors_graph(X)\n",
    "accuracy = accuracy_score(y_test, y_pred, normalize=True, sample_weight=None)\n",
    "precision = precision_score(y_test, y_pred, average='weighted')\n",
    "recall = recall_score(y_test, y_pred, average='weighted')\n",
    "f1 = f1_score(y_test, y_pred, average='weighted')"
   ]
  },
  {
   "cell_type": "code",
   "execution_count": 127,
   "id": "f403ed4f",
   "metadata": {},
   "outputs": [
    {
     "data": {
      "text/plain": [
       "'              precision    recall  f1-score   support\\n\\n           1       0.73      0.94      0.82        17\\n           2       0.79      0.69      0.73        16\\n           3       1.00      0.40      0.57         5\\n           5       0.80      0.80      0.80         5\\n           6       0.33      1.00      0.50         1\\n           7       1.00      0.80      0.89        10\\n\\n    accuracy                           0.78        54\\n   macro avg       0.77      0.77      0.72        54\\nweighted avg       0.82      0.78      0.78        54\\n'"
      ]
     },
     "execution_count": 127,
     "metadata": {},
     "output_type": "execute_result"
    }
   ],
   "source": [
    "result"
   ]
  },
  {
   "cell_type": "code",
   "execution_count": 128,
   "id": "ed3371aa",
   "metadata": {},
   "outputs": [
    {
     "data": {
      "text/plain": [
       "array([[16,  1,  0,  0,  0,  0],\n",
       "       [ 3, 11,  0,  1,  1,  0],\n",
       "       [ 3,  0,  2,  0,  0,  0],\n",
       "       [ 0,  1,  0,  4,  0,  0],\n",
       "       [ 0,  0,  0,  0,  1,  0],\n",
       "       [ 0,  1,  0,  0,  1,  8]])"
      ]
     },
     "execution_count": 128,
     "metadata": {},
     "output_type": "execute_result"
    }
   ],
   "source": [
    "matrix_result"
   ]
  },
  {
   "cell_type": "code",
   "execution_count": 129,
   "id": "c4ad4114",
   "metadata": {},
   "outputs": [
    {
     "data": {
      "text/plain": [
       "<214x214 sparse matrix of type '<class 'numpy.float64'>'\n",
       "\twith 1070 stored elements in Compressed Sparse Row format>"
      ]
     },
     "execution_count": 129,
     "metadata": {},
     "output_type": "execute_result"
    }
   ],
   "source": [
    "graph_result"
   ]
  },
  {
   "cell_type": "code",
   "execution_count": 130,
   "id": "22830205",
   "metadata": {},
   "outputs": [
    {
     "data": {
      "text/plain": [
       "0.7777777777777778"
      ]
     },
     "execution_count": 130,
     "metadata": {},
     "output_type": "execute_result"
    }
   ],
   "source": [
    "accuracy"
   ]
  },
  {
   "cell_type": "code",
   "execution_count": 131,
   "id": "a9cd1280",
   "metadata": {},
   "outputs": [
    {
     "data": {
      "text/plain": [
       "0.8197851531184865"
      ]
     },
     "execution_count": 131,
     "metadata": {},
     "output_type": "execute_result"
    }
   ],
   "source": [
    "precision"
   ]
  },
  {
   "cell_type": "code",
   "execution_count": 132,
   "id": "af427676",
   "metadata": {},
   "outputs": [
    {
     "data": {
      "text/plain": [
       "0.7777777777777778"
      ]
     },
     "execution_count": 132,
     "metadata": {},
     "output_type": "execute_result"
    }
   ],
   "source": [
    "recall"
   ]
  },
  {
   "cell_type": "code",
   "execution_count": 133,
   "id": "510eef3f",
   "metadata": {},
   "outputs": [
    {
     "data": {
      "text/plain": [
       "0.7764459820015377"
      ]
     },
     "execution_count": 133,
     "metadata": {},
     "output_type": "execute_result"
    }
   ],
   "source": [
    "f1"
   ]
  },
  {
   "cell_type": "code",
   "execution_count": null,
   "id": "75e0516f",
   "metadata": {},
   "outputs": [],
   "source": []
  }
 ],
 "metadata": {
  "kernelspec": {
   "display_name": "Python 3 (ipykernel)",
   "language": "python",
   "name": "python3"
  },
  "language_info": {
   "codemirror_mode": {
    "name": "ipython",
    "version": 3
   },
   "file_extension": ".py",
   "mimetype": "text/x-python",
   "name": "python",
   "nbconvert_exporter": "python",
   "pygments_lexer": "ipython3",
   "version": "3.8.11"
  }
 },
 "nbformat": 4,
 "nbformat_minor": 5
}
